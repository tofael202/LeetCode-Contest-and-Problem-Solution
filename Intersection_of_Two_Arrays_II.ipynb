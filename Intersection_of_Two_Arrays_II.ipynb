{
  "nbformat": 4,
  "nbformat_minor": 0,
  "metadata": {
    "colab": {
      "name": "  Intersection of Two Arrays II.ipynb",
      "provenance": [],
      "authorship_tag": "ABX9TyNeSGWxGLaiYUgD2BkgHOnu",
      "include_colab_link": true
    },
    "kernelspec": {
      "name": "python3",
      "display_name": "Python 3"
    },
    "language_info": {
      "name": "python"
    }
  },
  "cells": [
    {
      "cell_type": "markdown",
      "metadata": {
        "id": "view-in-github",
        "colab_type": "text"
      },
      "source": [
        "<a href=\"https://colab.research.google.com/github/tofael202/Leetcode-Contest-and-Practice-Solution/blob/main/Intersection_of_Two_Arrays_II.ipynb\" target=\"_parent\"><img src=\"https://colab.research.google.com/assets/colab-badge.svg\" alt=\"Open In Colab\"/></a>"
      ]
    },
    {
      "cell_type": "markdown",
      "metadata": {
        "id": "oZfBKi1e1F_g"
      },
      "source": [
        "Given two integer arrays nums1 and nums2, return an array of their intersection. Each element in the result must appear as many times as it shows in both arrays and you may return the result in any order.\n",
        "\n",
        " \n",
        "\n",
        "Example 1:\n",
        "\n",
        "Input: nums1 = [1,2,2,1], nums2 = [2,2]\n",
        "Output: [2,2]\n",
        "Example 2:\n",
        "\n",
        "Input: nums1 = [4,9,5], nums2 = [9,4,9,8,4]\n",
        "Output: [4,9]\n",
        "Explanation: [9,4] is also accepted."
      ]
    },
    {
      "cell_type": "markdown",
      "metadata": {
        "id": "sQYlnX0t1Arv"
      },
      "source": [
        "https://leetcode.com/explore/challenge/card/september-leetcoding-challenge-2021/638/week-3-september-15th-september-21st/3978/"
      ]
    },
    {
      "cell_type": "code",
      "metadata": {
        "colab": {
          "base_uri": "https://localhost:8080/"
        },
        "id": "yQFGpCCCkMoz",
        "outputId": "dbfb71f9-0b65-4e56-839a-22bdcaa9b97e"
      },
      "source": [
        "nums1 = [] \n",
        " \n",
        "# For list of strings/chars\n",
        "nums2 = [] \n",
        " \n",
        "nums1 = [int(item) for item in input(\"Enter the list items : \").split()]\n",
        " \n",
        "nums2 = [int(item) for item in input(\"Enter the list items : \").split()]\n",
        " \n",
        "print(nums1)\n",
        "print(nums2)"
      ],
      "execution_count": 9,
      "outputs": [
        {
          "output_type": "stream",
          "name": "stdout",
          "text": [
            "Enter the list items : 2 4 2 1\n",
            "Enter the list items : 2 2\n",
            "[2, 4, 2, 1]\n",
            "[2, 2]\n"
          ]
        }
      ]
    },
    {
      "cell_type": "code",
      "metadata": {
        "id": "2PK8U_sx1FAx"
      },
      "source": [
        ""
      ],
      "execution_count": null,
      "outputs": []
    },
    {
      "cell_type": "code",
      "metadata": {
        "colab": {
          "base_uri": "https://localhost:8080/"
        },
        "id": "1y8SyxD3kAs3",
        "outputId": "4a7ebde5-04ff-4dc6-e6da-6113099a1d3e"
      },
      "source": [
        "nums1 = [1,2] \n",
        " \n",
        "# For list of strings/chars\n",
        "nums2 = [2,2,5] \n",
        "nums1_len=len(nums1)\n",
        "nums2_len=len(nums2)\n",
        "#print(nums1_len)\n",
        "#print(nums2_len)\n",
        "res=[]\n",
        "if(nums1_len>nums2_len):\n",
        "  for i in range(len(nums2)):\n",
        "    #print(nums2[i])\n",
        "    for j in nums1:\n",
        "      #print(nums1[j])\n",
        "      if(nums2[i]==j):\n",
        "        res.append(j)\n",
        "        nums1.remove(j)\n",
        "        break\n",
        "else:  \n",
        "  for i in range(len(nums1)):\n",
        "    #print(nums2[i])\n",
        "    for j in nums2:\n",
        "      #print(nums1[j])\n",
        "      if(nums1[i]==j):\n",
        "        res.append(j)\n",
        "        nums2.remove(j)\n",
        "        break      \n",
        "\n",
        "      \n",
        "                        \n",
        "            \n",
        "print(res) "
      ],
      "execution_count": 25,
      "outputs": [
        {
          "output_type": "stream",
          "name": "stdout",
          "text": [
            "[2]\n"
          ]
        }
      ]
    },
    {
      "cell_type": "code",
      "metadata": {
        "id": "h2hX3Llv0-9r"
      },
      "source": [
        ""
      ],
      "execution_count": null,
      "outputs": []
    },
    {
      "cell_type": "code",
      "metadata": {
        "id": "KoRqbyNjkL5B"
      },
      "source": [
        ""
      ],
      "execution_count": null,
      "outputs": []
    }
  ]
}