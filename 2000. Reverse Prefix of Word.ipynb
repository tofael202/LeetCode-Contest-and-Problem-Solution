{
  "nbformat": 4,
  "nbformat_minor": 0,
  "metadata": {
    "colab": {
      "name": "2000. Reverse Prefix of Word.ipynb",
      "provenance": [],
      "authorship_tag": "ABX9TyNOwLK+OZLvr+cQzeqLZjwi",
      "include_colab_link": true
    },
    "kernelspec": {
      "name": "python3",
      "display_name": "Python 3"
    },
    "language_info": {
      "name": "python"
    }
  },
  "cells": [
    {
      "cell_type": "markdown",
      "metadata": {
        "id": "view-in-github",
        "colab_type": "text"
      },
      "source": [
        "<a href=\"https://colab.research.google.com/github/tofael202/Leetcode-Contest-and-Practice-Solution/blob/main/2000_Reverse_Prefix_of_Word.ipynb\" target=\"_parent\"><img src=\"https://colab.research.google.com/assets/colab-badge.svg\" alt=\"Open In Colab\"/></a>"
      ]
    },
    {
      "cell_type": "markdown",
      "metadata": {
        "id": "XJNAs031yPlQ"
      },
      "source": [
        "https://leetcode.com/contest/weekly-contest-258/problems/reverse-prefix-of-word/\n",
        "\n",
        "Given a 0-indexed string word and a character ch, reverse the segment of word that starts at index 0 and ends at the index of the first occurrence of ch (inclusive). If the character ch does not exist in word, do nothing.\n",
        "\n",
        "For example, if word = \"abcdefd\" and ch = \"d\", then you should reverse the segment that starts at 0 and ends at 3 (inclusive). The resulting string will be \"dcbaefd\".\n",
        "Return the resulting string.\n",
        "\n",
        " \n",
        "\n",
        "Example 1:\n",
        "\n",
        "Input: word = \"abcdefd\", ch = \"d\"\n",
        "Output: \"dcbaefd\"\n",
        "Explanation: The first occurrence of \"d\" is at index 3. \n",
        "Reverse the part of word from 0 to 3 (inclusive), the resulting string is \"dcbaefd\".\n",
        "Example 2:\n",
        "\n",
        "Input: word = \"xyxzxe\", ch = \"z\"\n",
        "Output: \"zxyxxe\"\n",
        "Explanation: The first and only occurrence of \"z\" is at index 3.\n",
        "Reverse the part of word from 0 to 3 (inclusive), the resulting string is \"zxyxxe\"."
      ]
    },
    {
      "cell_type": "code",
      "metadata": {
        "colab": {
          "base_uri": "https://localhost:8080/"
        },
        "id": "2um4iYii8fXg",
        "outputId": "f3712785-c7fa-4dab-93c6-b228b2a7078a"
      },
      "source": [
        "        word=\"rzwuktxcjfpamlonbgyieqdvhs\"\n",
        "        ch=\"f\"\n",
        "        length=0\n",
        "        w=''\n",
        "        word=list(word)\n",
        "        \n",
        "        for x in range(len(word)):\n",
        "            if(word[x]==ch):\n",
        "                length=x\n",
        "                break\n",
        "        if(length==0):\n",
        "            \n",
        "            w.join(word)\n",
        "            print(w)\n",
        "        else:\n",
        "            dis=int(length/2)\n",
        "            #print(dis)\n",
        "            if(length%2==1):\n",
        "              dis=dis+1\n",
        "               \n",
        "            for i in range(dis):\n",
        "                #print(i)\n",
        "                temp1=word[i]\n",
        "                #print(temp1)\n",
        "                temp2=word[length]\n",
        "                word[i]=temp2\n",
        "                #print(word[i])\n",
        "                word[length]=temp1\n",
        "                length=length-1\n",
        "            w.join(word)\n",
        "            print(w)"
      ],
      "execution_count": 23,
      "outputs": [
        {
          "output_type": "stream",
          "name": "stdout",
          "text": [
            "\n"
          ]
        }
      ]
    },
    {
      "cell_type": "markdown",
      "metadata": {
        "id": "PyjRHOoHyOww"
      },
      "source": [
        ""
      ]
    }
  ]
}